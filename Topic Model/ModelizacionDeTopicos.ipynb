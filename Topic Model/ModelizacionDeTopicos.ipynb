{
  "cells": [
    {
      "cell_type": "code",
      "execution_count": 2,
      "id": "6175040f-dfc8-4a81-ba21-61a25a77eb8b",
      "metadata": {
        "id": "6175040f-dfc8-4a81-ba21-61a25a77eb8b"
      },
      "outputs": [],
      "source": [
        "import pandas as pd\n",
        "import nltk\n",
        "from gensim.models import Word2Vec\n",
        "from sklearn.metrics.pairwise import cosine_similarity\n",
        "from sklearn.cluster import KMeans\n",
        "import numpy as np\n",
        "from sklearn.decomposition import PCA\n",
        "import matplotlib.pyplot as plt"
      ]
    },
    {
      "cell_type": "code",
      "execution_count": 9,
      "id": "063d8821-bfec-426c-8065-7f9319a6bdf1",
      "metadata": {
        "colab": {
          "base_uri": "https://localhost:8080/"
        },
        "id": "063d8821-bfec-426c-8065-7f9319a6bdf1",
        "outputId": "081f4813-d14a-4559-cf35-f423a040f5df"
      },
      "outputs": [
        {
          "output_type": "stream",
          "name": "stderr",
          "text": [
            "[nltk_data] Downloading package punkt to /root/nltk_data...\n",
            "[nltk_data]   Package punkt is already up-to-date!\n",
            "[nltk_data] Downloading package punkt_tab to /root/nltk_data...\n",
            "[nltk_data]   Unzipping tokenizers/punkt_tab.zip.\n"
          ]
        },
        {
          "output_type": "execute_result",
          "data": {
            "text/plain": [
              "True"
            ]
          },
          "metadata": {},
          "execution_count": 9
        }
      ],
      "source": [
        "nltk.download('punkt')\n",
        "nltk.download('punkt_tab')\n"
      ]
    },
    {
      "cell_type": "code",
      "execution_count": 4,
      "id": "88170108-ac2b-4bd9-9e39-a02d525b73f5",
      "metadata": {
        "id": "88170108-ac2b-4bd9-9e39-a02d525b73f5"
      },
      "outputs": [],
      "source": [
        "# Cargar el archivo CSV\n",
        "#file_path = '/kaggle/input/lex-fridman-podcast-transcript/podcastdata_dataset.csv'\n",
        "file_path = 'podcastdata_dataset.csv'\n",
        "df = pd.read_csv(file_path)"
      ]
    },
    {
      "cell_type": "code",
      "execution_count": 5,
      "id": "7284c89e-5bfd-4eef-97b0-4859144e2787",
      "metadata": {
        "id": "7284c89e-5bfd-4eef-97b0-4859144e2787"
      },
      "outputs": [],
      "source": [
        "# Funciones para contar palabras y oraciones\n",
        "def count_words(text):\n",
        "    if pd.isna(text):\n",
        "        return 0\n",
        "    return len(text.split())\n",
        "\n",
        "def count_sentences(text):\n",
        "    if pd.isna(text):\n",
        "        return 0\n",
        "    return len(text.split('.'))"
      ]
    },
    {
      "cell_type": "code",
      "execution_count": 6,
      "id": "6a4c3c21-0da5-4210-9c97-e2308cd04ae1",
      "metadata": {
        "colab": {
          "base_uri": "https://localhost:8080/"
        },
        "id": "6a4c3c21-0da5-4210-9c97-e2308cd04ae1",
        "outputId": "4652d03d-868b-4ea8-cb1e-930bb93cdad0"
      },
      "outputs": [
        {
          "output_type": "stream",
          "name": "stdout",
          "text": [
            "      id                                               text  Word Count  \\\n",
            "0      1  As part of MIT course 6S099, Artificial Genera...       13424   \n",
            "1      2  As part of MIT course 6S099 on artificial gene...       10217   \n",
            "2      3  You've studied the human mind, cognition, lang...        5989   \n",
            "3      4  What difference between biological neural netw...        5993   \n",
            "4      5  The following is a conversation with Vladimir ...        6374   \n",
            "..   ...                                                ...         ...   \n",
            "314  321  By the time he gets to 2045, we'll be able to ...       12807   \n",
            "315  322  there's a broader question here, right? As we ...       26034   \n",
            "316  323  Once this whole thing falls apart and we are c...       25255   \n",
            "317  324  you could be the seventh best player in the wh...       29911   \n",
            "318  325  turns out that if you train a planarian and th...       33714   \n",
            "\n",
            "     Sentence Count  \n",
            "0               611  \n",
            "1               499  \n",
            "2               292  \n",
            "3               311  \n",
            "4               514  \n",
            "..              ...  \n",
            "314             860  \n",
            "315            1724  \n",
            "316            1802  \n",
            "317            1658  \n",
            "318            1731  \n",
            "\n",
            "[319 rows x 4 columns]\n"
          ]
        }
      ],
      "source": [
        "# Añadir columnas para número de palabras y oraciones\n",
        "df['Word Count'] = df['text'].apply(count_words)\n",
        "df['Sentence Count'] = df['text'].apply(count_sentences)\n",
        "\n",
        "result = df[['id', 'text', 'Word Count', 'Sentence Count']]\n",
        "print(result)"
      ]
    },
    {
      "cell_type": "code",
      "execution_count": 7,
      "id": "61d884c0-4960-437b-b56f-a6c163a00b1a",
      "metadata": {
        "id": "61d884c0-4960-437b-b56f-a6c163a00b1a"
      },
      "outputs": [],
      "source": [
        "# Listas para almacenar las oraciones y los mapeos\n",
        "all_sentences = []\n",
        "ep_sentence_map = []"
      ]
    },
    {
      "cell_type": "code",
      "execution_count": 10,
      "id": "fd062ce4-8151-43e3-a798-cee07176ae07",
      "metadata": {
        "id": "fd062ce4-8151-43e3-a798-cee07176ae07"
      },
      "outputs": [],
      "source": [
        "# Recorrer cada fila del DataFrame\n",
        "for index, row in df.iterrows():\n",
        "    episode_id = row['id']  # ID del episodio\n",
        "    text = str(row['text']) if pd.notna(row['text']) else \"\"\n",
        "    sentences = nltk.sent_tokenize(text)  # Dividir el texto en oraciones\n",
        "\n",
        "    # Recorrer cada oración y asignar un ID de oración dentro del episodio\n",
        "    for i, sentence in enumerate(sentences):\n",
        "        all_sentences.append(nltk.word_tokenize(sentence.lower()))\n",
        "        ep_sentence_map.append({'ep_id': episode_id, 'st_id': i + 1, 'text': sentence})"
      ]
    },
    {
      "cell_type": "code",
      "execution_count": 11,
      "id": "f1ac4c9a-61fd-4303-b47c-5a2707289664",
      "metadata": {
        "id": "f1ac4c9a-61fd-4303-b47c-5a2707289664"
      },
      "outputs": [],
      "source": [
        "# Entrenar el modelo Word2Vec con todas las oraciones\n",
        "word2vec_model = Word2Vec(sentences=all_sentences, vector_size=100, window=5, min_count=1, workers=4)"
      ]
    },
    {
      "cell_type": "code",
      "execution_count": 12,
      "id": "ebe0b8ca-ace4-46cc-9cfa-dc701b5233c8",
      "metadata": {
        "id": "ebe0b8ca-ace4-46cc-9cfa-dc701b5233c8"
      },
      "outputs": [],
      "source": [
        "# Función para generar el embedding de una oración\n",
        "def sentence_embedding(sentence):\n",
        "    words = nltk.word_tokenize(sentence.lower())\n",
        "    word_vectors = [word2vec_model.wv[word] for word in words if word in word2vec_model.wv]\n",
        "    if len(word_vectors) == 0:\n",
        "        return np.zeros(100)\n",
        "    return np.mean(word_vectors, axis=0)"
      ]
    },
    {
      "cell_type": "code",
      "execution_count": 13,
      "id": "f25be18c-d60e-487d-986a-56a50e2cfc6b",
      "metadata": {
        "colab": {
          "base_uri": "https://localhost:8080/"
        },
        "id": "f25be18c-d60e-487d-986a-56a50e2cfc6b",
        "outputId": "8bb7c36d-347d-4592-c7f6-872b0f2adbb5"
      },
      "outputs": [
        {
          "output_type": "stream",
          "name": "stdout",
          "text": [
            "        ep_id  st_id                                               text  \\\n",
            "0           1      1  As part of MIT course 6S099, Artificial Genera...   \n",
            "1           1      2                     He is a professor here at MIT.   \n",
            "2           1      3  He's a physicist, spent a large part of his ca...   \n",
            "3           1      4  But he's also studied and delved into the bene...   \n",
            "4           1      5  Amongst many other things, he is the cofounder...   \n",
            "...       ...    ...                                                ...   \n",
            "443537    325   2085                                Is it in the cells?   \n",
            "443538    325   2086  There are many, many layers to this as always ...   \n",
            "443539    325   2087                    So there are chemical networks.   \n",
            "443540    325   2088   So for example, gene regulatory networks, right?   \n",
            "443541    325   2089   Which, or basically any kind of chemical pathway   \n",
            "\n",
            "                                                embedding  \n",
            "0       [0.8091787099838257, -0.05758264660835266, 0.1...  \n",
            "1       [0.30785542726516724, -0.6198086738586426, -0....  \n",
            "2       [0.2505646347999573, -0.5508590340614319, -0.5...  \n",
            "3       [0.3515723645687103, -0.20778131484985352, -0....  \n",
            "4       [0.4957660734653473, -0.20802028477191925, 0.0...  \n",
            "...                                                   ...  \n",
            "443537  [0.39806509017944336, -1.2021702527999878, -0....  \n",
            "443538  [0.39923346042633057, -0.1551039069890976, -0....  \n",
            "443539  [-0.2132992297410965, -0.5866921544075012, -0....  \n",
            "443540  [-0.07103808224201202, -0.6539887189865112, -0...  \n",
            "443541  [0.17237167060375214, -0.9918661117553711, -0....  \n",
            "\n",
            "[443542 rows x 4 columns]\n"
          ]
        }
      ],
      "source": [
        "# Crear el nuevo DataFrame con las columnas ep_id, st_id, text, embedding\n",
        "data = []\n",
        "\n",
        "for row in ep_sentence_map:\n",
        "    embedding = sentence_embedding(row['text'])\n",
        "    data.append({\n",
        "        'ep_id': row['ep_id'],\n",
        "        'st_id': row['st_id'],\n",
        "        'text': row['text'],\n",
        "        'embedding': embedding.tolist()\n",
        "    })\n",
        "\n",
        "embedding_df = pd.DataFrame(data)\n",
        "print(embedding_df)"
      ]
    },
    {
      "cell_type": "code",
      "execution_count": 14,
      "id": "623724ae-adc5-47a0-a6eb-6e91d736dadc",
      "metadata": {
        "id": "623724ae-adc5-47a0-a6eb-6e91d736dadc"
      },
      "outputs": [],
      "source": [
        "# Función para medir la similitud de la consulta (query) con las oraciones\n",
        "def get_similar_sentences(query, embedding_df, threshold=0.8):\n",
        "    query_embedding = sentence_embedding(query)\n",
        "    embedding_df['similarity'] = embedding_df['embedding'].apply(lambda x: cosine_similarity([query_embedding], [x])[0][0])\n",
        "    similar_sentences = embedding_df[embedding_df['similarity'] >= threshold]\n",
        "    return similar_sentences[['ep_id', 'st_id', 'text', 'similarity']]"
      ]
    },
    {
      "cell_type": "code",
      "execution_count": 16,
      "id": "701c9e11-7f03-4444-8da0-6615a617a09d",
      "metadata": {
        "colab": {
          "base_uri": "https://localhost:8080/"
        },
        "id": "701c9e11-7f03-4444-8da0-6615a617a09d",
        "outputId": "6558de81-91b4-4be0-f98d-8e7ae6e8e155"
      },
      "outputs": [
        {
          "output_type": "stream",
          "name": "stdout",
          "text": [
            "        ep_id  st_id                                               text  \\\n",
            "1997        4    333                   GANs and reinforcement learning.   \n",
            "2237        5    214                   It is standard machine learning.   \n",
            "39052      54    716                           That's machine learning.   \n",
            "53154      70   1120                                  Machine learning.   \n",
            "53155      70   1121                                  Machine learning.   \n",
            "61408      81    869  Is it the success of machine learning and rein...   \n",
            "73566      94    633                            Reinforcement learning.   \n",
            "74451      95    436                       Rework Deep Learning Summit.   \n",
            "86560     108    222  What's the role of simulation in reinforcement...   \n",
            "87009     108    671  So reinforcement learning can be viewed as a g...   \n",
            "124609    132   1991                               So machine learning.   \n",
            "150950    148   1703  You started with reinforcement learning or mac...   \n",
            "197767    177   1041                Machine learning, broadly speaking.   \n",
            "197768    177   1042            Maybe even supervised machine learning.   \n",
            "259788    216   1056                           Machine learning people.   \n",
            "437187    322   1906            Arranged by machine learning algorithm.   \n",
            "\n",
            "        similarity  \n",
            "1997      0.802031  \n",
            "2237      0.823075  \n",
            "39052     0.853454  \n",
            "53154     0.942750  \n",
            "53155     0.942750  \n",
            "61408     0.817724  \n",
            "73566     0.890985  \n",
            "74451     0.814563  \n",
            "86560     0.831279  \n",
            "87009     0.815499  \n",
            "124609    0.902005  \n",
            "150950    0.828557  \n",
            "197767    0.843200  \n",
            "197768    0.842467  \n",
            "259788    0.811124  \n",
            "437187    0.805465  \n"
          ]
        }
      ],
      "source": [
        "query = \"machine learning inventor\"\n",
        "similar_sentences = get_similar_sentences(query, embedding_df)\n",
        "print(similar_sentences)"
      ]
    },
    {
      "cell_type": "code",
      "execution_count": 17,
      "id": "04ff36eb-47a6-4cd1-a084-3c792a55ffbf",
      "metadata": {
        "id": "04ff36eb-47a6-4cd1-a084-3c792a55ffbf"
      },
      "outputs": [],
      "source": [
        "# Obtener lista de episodios únicos\n",
        "episode_ids = embedding_df['ep_id'].unique()"
      ]
    },
    {
      "cell_type": "code",
      "execution_count": 18,
      "id": "76439f43-3029-4ce3-9754-2a18a4e73e8e",
      "metadata": {
        "id": "76439f43-3029-4ce3-9754-2a18a4e73e8e"
      },
      "outputs": [],
      "source": [
        "import os\n",
        "from sklearn.cluster import KMeans\n",
        "\n",
        "# Evitar el memory leak en Windows\n",
        "os.environ[\"OMP_NUM_THREADS\"] = \"1\"  # Limitar a un solo hilo"
      ]
    },
    {
      "cell_type": "code",
      "execution_count": 19,
      "id": "85110d1c-ea6c-474e-a9e1-9d4e92b1f0f1",
      "metadata": {
        "id": "85110d1c-ea6c-474e-a9e1-9d4e92b1f0f1"
      },
      "outputs": [],
      "source": [
        "# Crear lista para almacenar datos de todos los tópicos\n",
        "all_topic_data = []"
      ]
    },
    {
      "cell_type": "code",
      "execution_count": 21,
      "id": "7e7b96a0-2d67-4ae5-a02a-e5f2820a1b54",
      "metadata": {
        "id": "7e7b96a0-2d67-4ae5-a02a-e5f2820a1b54"
      },
      "outputs": [],
      "source": [
        "# Recorrer cada episodio\n",
        "for ep_id in episode_ids:\n",
        "    # Filtrar las oraciones del episodio actual\n",
        "    episode_embeddings = embedding_df[embedding_df['ep_id'] == ep_id].copy()  # Copia explícita para evitar SettingWithCopyWarning\n",
        "    embeddings = np.array(episode_embeddings['embedding'].tolist())\n",
        "\n",
        "    # Clustering con KMeans para modelado de tópicos\n",
        "    n_topics = 5  # Número de tópicos estimado\n",
        "    kmeans = KMeans(n_clusters=n_topics, random_state=0, n_init=10)  # Evitar múltiples hilos\n",
        "    episode_embeddings['topic'] = kmeans.fit_predict(embeddings)\n",
        "\n",
        "    # Generación de embeddings de tópicos\n",
        "    for topic_id in episode_embeddings['topic'].unique():\n",
        "        topic_sentences = episode_embeddings[episode_embeddings['topic'] == topic_id]\n",
        "\n",
        "        # Concatenar todas las oraciones del tópico y calcular el embedding\n",
        "        combined_text = \" \".join(topic_sentences['text'].values)\n",
        "        topic_embedding = sentence_embedding(combined_text)\n",
        "\n",
        "        all_topic_data.append({\n",
        "            'ep_id': ep_id,  # ID del episodio actual\n",
        "            'topic': topic_id,  # ID del tópico\n",
        "            'embedding': topic_embedding.tolist()  # Embedding del tópico\n",
        "        })\n"
      ]
    },
    {
      "cell_type": "code",
      "execution_count": 22,
      "id": "fcb81bd7-d67e-474a-bc94-3f6da19d654f",
      "metadata": {
        "colab": {
          "base_uri": "https://localhost:8080/"
        },
        "id": "fcb81bd7-d67e-474a-bc94-3f6da19d654f",
        "outputId": "e5ad8f5c-6a08-4ae7-b22f-0e7f3d760f74"
      },
      "outputs": [
        {
          "output_type": "stream",
          "name": "stdout",
          "text": [
            "DataFrame de Tópicos para Todos los Episodios:\n",
            "      ep_id  topic                                          embedding\n",
            "0         1      1  [0.49111875891685486, -0.19288337230682373, -0...\n",
            "1         1      3  [0.4326191544532776, -0.4006393849849701, -0.2...\n",
            "2         1      0  [0.6308995485305786, -0.3002912998199463, -0.0...\n",
            "3         1      2  [0.3311287760734558, -0.1016458123922348, -0.2...\n",
            "4         1      4  [-0.7117680311203003, -0.2346755564212799, -0....\n",
            "...     ...    ...                                                ...\n",
            "1585    325      4  [0.4968196153640747, -0.5050524473190308, -0.2...\n",
            "1586    325      1  [0.5102920532226562, -0.22989289462566376, -0....\n",
            "1587    325      2  [0.6993454694747925, -0.4047175645828247, -0.0...\n",
            "1588    325      3  [0.28903329372406006, -0.24781273305416107, -0...\n",
            "1589    325      0  [-0.7253988981246948, -0.10792925953865051, -0...\n",
            "\n",
            "[1590 rows x 3 columns]\n"
          ]
        }
      ],
      "source": [
        "# Crear un DataFrame con los tópicos de todos los episodios\n",
        "all_topics_df = pd.DataFrame(all_topic_data)\n",
        "print(\"DataFrame de Tópicos para Todos los Episodios:\")\n",
        "print(all_topics_df)"
      ]
    },
    {
      "cell_type": "code",
      "execution_count": 23,
      "id": "f3aece0e-f5a6-459f-819a-22b748b3b7ab",
      "metadata": {
        "id": "f3aece0e-f5a6-459f-819a-22b748b3b7ab"
      },
      "outputs": [],
      "source": [
        "# Guardar en un archivo CSV\n",
        "all_topics_df.to_csv('all_episodes_topics.csv', index=False)\n"
      ]
    },
    {
      "cell_type": "code",
      "execution_count": 24,
      "id": "9486ed03-af7e-4453-a281-c56fc7ebf630",
      "metadata": {
        "colab": {
          "base_uri": "https://localhost:8080/",
          "height": 424
        },
        "id": "9486ed03-af7e-4453-a281-c56fc7ebf630",
        "outputId": "a0e4e923-81d2-49fd-abfc-cd8df925bea9"
      },
      "outputs": [
        {
          "output_type": "execute_result",
          "data": {
            "text/plain": [
              "      ep_id  topic                                          embedding\n",
              "0         1      1  [0.49111875891685486, -0.19288337230682373, -0...\n",
              "1         1      3  [0.4326191544532776, -0.4006393849849701, -0.2...\n",
              "2         1      0  [0.6308995485305786, -0.3002912998199463, -0.0...\n",
              "3         1      2  [0.3311287760734558, -0.1016458123922348, -0.2...\n",
              "4         1      4  [-0.7117680311203003, -0.2346755564212799, -0....\n",
              "...     ...    ...                                                ...\n",
              "1585    325      4  [0.4968196153640747, -0.5050524473190308, -0.2...\n",
              "1586    325      1  [0.5102920532226562, -0.22989289462566376, -0....\n",
              "1587    325      2  [0.6993454694747925, -0.4047175645828247, -0.0...\n",
              "1588    325      3  [0.28903329372406006, -0.24781273305416107, -0...\n",
              "1589    325      0  [-0.7253988981246948, -0.10792925953865051, -0...\n",
              "\n",
              "[1590 rows x 3 columns]"
            ],
            "text/html": [
              "\n",
              "  <div id=\"df-4b21a817-ca20-411a-9a55-019fd64d6410\" class=\"colab-df-container\">\n",
              "    <div>\n",
              "<style scoped>\n",
              "    .dataframe tbody tr th:only-of-type {\n",
              "        vertical-align: middle;\n",
              "    }\n",
              "\n",
              "    .dataframe tbody tr th {\n",
              "        vertical-align: top;\n",
              "    }\n",
              "\n",
              "    .dataframe thead th {\n",
              "        text-align: right;\n",
              "    }\n",
              "</style>\n",
              "<table border=\"1\" class=\"dataframe\">\n",
              "  <thead>\n",
              "    <tr style=\"text-align: right;\">\n",
              "      <th></th>\n",
              "      <th>ep_id</th>\n",
              "      <th>topic</th>\n",
              "      <th>embedding</th>\n",
              "    </tr>\n",
              "  </thead>\n",
              "  <tbody>\n",
              "    <tr>\n",
              "      <th>0</th>\n",
              "      <td>1</td>\n",
              "      <td>1</td>\n",
              "      <td>[0.49111875891685486, -0.19288337230682373, -0...</td>\n",
              "    </tr>\n",
              "    <tr>\n",
              "      <th>1</th>\n",
              "      <td>1</td>\n",
              "      <td>3</td>\n",
              "      <td>[0.4326191544532776, -0.4006393849849701, -0.2...</td>\n",
              "    </tr>\n",
              "    <tr>\n",
              "      <th>2</th>\n",
              "      <td>1</td>\n",
              "      <td>0</td>\n",
              "      <td>[0.6308995485305786, -0.3002912998199463, -0.0...</td>\n",
              "    </tr>\n",
              "    <tr>\n",
              "      <th>3</th>\n",
              "      <td>1</td>\n",
              "      <td>2</td>\n",
              "      <td>[0.3311287760734558, -0.1016458123922348, -0.2...</td>\n",
              "    </tr>\n",
              "    <tr>\n",
              "      <th>4</th>\n",
              "      <td>1</td>\n",
              "      <td>4</td>\n",
              "      <td>[-0.7117680311203003, -0.2346755564212799, -0....</td>\n",
              "    </tr>\n",
              "    <tr>\n",
              "      <th>...</th>\n",
              "      <td>...</td>\n",
              "      <td>...</td>\n",
              "      <td>...</td>\n",
              "    </tr>\n",
              "    <tr>\n",
              "      <th>1585</th>\n",
              "      <td>325</td>\n",
              "      <td>4</td>\n",
              "      <td>[0.4968196153640747, -0.5050524473190308, -0.2...</td>\n",
              "    </tr>\n",
              "    <tr>\n",
              "      <th>1586</th>\n",
              "      <td>325</td>\n",
              "      <td>1</td>\n",
              "      <td>[0.5102920532226562, -0.22989289462566376, -0....</td>\n",
              "    </tr>\n",
              "    <tr>\n",
              "      <th>1587</th>\n",
              "      <td>325</td>\n",
              "      <td>2</td>\n",
              "      <td>[0.6993454694747925, -0.4047175645828247, -0.0...</td>\n",
              "    </tr>\n",
              "    <tr>\n",
              "      <th>1588</th>\n",
              "      <td>325</td>\n",
              "      <td>3</td>\n",
              "      <td>[0.28903329372406006, -0.24781273305416107, -0...</td>\n",
              "    </tr>\n",
              "    <tr>\n",
              "      <th>1589</th>\n",
              "      <td>325</td>\n",
              "      <td>0</td>\n",
              "      <td>[-0.7253988981246948, -0.10792925953865051, -0...</td>\n",
              "    </tr>\n",
              "  </tbody>\n",
              "</table>\n",
              "<p>1590 rows × 3 columns</p>\n",
              "</div>\n",
              "    <div class=\"colab-df-buttons\">\n",
              "\n",
              "  <div class=\"colab-df-container\">\n",
              "    <button class=\"colab-df-convert\" onclick=\"convertToInteractive('df-4b21a817-ca20-411a-9a55-019fd64d6410')\"\n",
              "            title=\"Convert this dataframe to an interactive table.\"\n",
              "            style=\"display:none;\">\n",
              "\n",
              "  <svg xmlns=\"http://www.w3.org/2000/svg\" height=\"24px\" viewBox=\"0 -960 960 960\">\n",
              "    <path d=\"M120-120v-720h720v720H120Zm60-500h600v-160H180v160Zm220 220h160v-160H400v160Zm0 220h160v-160H400v160ZM180-400h160v-160H180v160Zm440 0h160v-160H620v160ZM180-180h160v-160H180v160Zm440 0h160v-160H620v160Z\"/>\n",
              "  </svg>\n",
              "    </button>\n",
              "\n",
              "  <style>\n",
              "    .colab-df-container {\n",
              "      display:flex;\n",
              "      gap: 12px;\n",
              "    }\n",
              "\n",
              "    .colab-df-convert {\n",
              "      background-color: #E8F0FE;\n",
              "      border: none;\n",
              "      border-radius: 50%;\n",
              "      cursor: pointer;\n",
              "      display: none;\n",
              "      fill: #1967D2;\n",
              "      height: 32px;\n",
              "      padding: 0 0 0 0;\n",
              "      width: 32px;\n",
              "    }\n",
              "\n",
              "    .colab-df-convert:hover {\n",
              "      background-color: #E2EBFA;\n",
              "      box-shadow: 0px 1px 2px rgba(60, 64, 67, 0.3), 0px 1px 3px 1px rgba(60, 64, 67, 0.15);\n",
              "      fill: #174EA6;\n",
              "    }\n",
              "\n",
              "    .colab-df-buttons div {\n",
              "      margin-bottom: 4px;\n",
              "    }\n",
              "\n",
              "    [theme=dark] .colab-df-convert {\n",
              "      background-color: #3B4455;\n",
              "      fill: #D2E3FC;\n",
              "    }\n",
              "\n",
              "    [theme=dark] .colab-df-convert:hover {\n",
              "      background-color: #434B5C;\n",
              "      box-shadow: 0px 1px 3px 1px rgba(0, 0, 0, 0.15);\n",
              "      filter: drop-shadow(0px 1px 2px rgba(0, 0, 0, 0.3));\n",
              "      fill: #FFFFFF;\n",
              "    }\n",
              "  </style>\n",
              "\n",
              "    <script>\n",
              "      const buttonEl =\n",
              "        document.querySelector('#df-4b21a817-ca20-411a-9a55-019fd64d6410 button.colab-df-convert');\n",
              "      buttonEl.style.display =\n",
              "        google.colab.kernel.accessAllowed ? 'block' : 'none';\n",
              "\n",
              "      async function convertToInteractive(key) {\n",
              "        const element = document.querySelector('#df-4b21a817-ca20-411a-9a55-019fd64d6410');\n",
              "        const dataTable =\n",
              "          await google.colab.kernel.invokeFunction('convertToInteractive',\n",
              "                                                    [key], {});\n",
              "        if (!dataTable) return;\n",
              "\n",
              "        const docLinkHtml = 'Like what you see? Visit the ' +\n",
              "          '<a target=\"_blank\" href=https://colab.research.google.com/notebooks/data_table.ipynb>data table notebook</a>'\n",
              "          + ' to learn more about interactive tables.';\n",
              "        element.innerHTML = '';\n",
              "        dataTable['output_type'] = 'display_data';\n",
              "        await google.colab.output.renderOutput(dataTable, element);\n",
              "        const docLink = document.createElement('div');\n",
              "        docLink.innerHTML = docLinkHtml;\n",
              "        element.appendChild(docLink);\n",
              "      }\n",
              "    </script>\n",
              "  </div>\n",
              "\n",
              "\n",
              "<div id=\"df-2431adc6-16f4-4557-b106-36301138ff7e\">\n",
              "  <button class=\"colab-df-quickchart\" onclick=\"quickchart('df-2431adc6-16f4-4557-b106-36301138ff7e')\"\n",
              "            title=\"Suggest charts\"\n",
              "            style=\"display:none;\">\n",
              "\n",
              "<svg xmlns=\"http://www.w3.org/2000/svg\" height=\"24px\"viewBox=\"0 0 24 24\"\n",
              "     width=\"24px\">\n",
              "    <g>\n",
              "        <path d=\"M19 3H5c-1.1 0-2 .9-2 2v14c0 1.1.9 2 2 2h14c1.1 0 2-.9 2-2V5c0-1.1-.9-2-2-2zM9 17H7v-7h2v7zm4 0h-2V7h2v10zm4 0h-2v-4h2v4z\"/>\n",
              "    </g>\n",
              "</svg>\n",
              "  </button>\n",
              "\n",
              "<style>\n",
              "  .colab-df-quickchart {\n",
              "      --bg-color: #E8F0FE;\n",
              "      --fill-color: #1967D2;\n",
              "      --hover-bg-color: #E2EBFA;\n",
              "      --hover-fill-color: #174EA6;\n",
              "      --disabled-fill-color: #AAA;\n",
              "      --disabled-bg-color: #DDD;\n",
              "  }\n",
              "\n",
              "  [theme=dark] .colab-df-quickchart {\n",
              "      --bg-color: #3B4455;\n",
              "      --fill-color: #D2E3FC;\n",
              "      --hover-bg-color: #434B5C;\n",
              "      --hover-fill-color: #FFFFFF;\n",
              "      --disabled-bg-color: #3B4455;\n",
              "      --disabled-fill-color: #666;\n",
              "  }\n",
              "\n",
              "  .colab-df-quickchart {\n",
              "    background-color: var(--bg-color);\n",
              "    border: none;\n",
              "    border-radius: 50%;\n",
              "    cursor: pointer;\n",
              "    display: none;\n",
              "    fill: var(--fill-color);\n",
              "    height: 32px;\n",
              "    padding: 0;\n",
              "    width: 32px;\n",
              "  }\n",
              "\n",
              "  .colab-df-quickchart:hover {\n",
              "    background-color: var(--hover-bg-color);\n",
              "    box-shadow: 0 1px 2px rgba(60, 64, 67, 0.3), 0 1px 3px 1px rgba(60, 64, 67, 0.15);\n",
              "    fill: var(--button-hover-fill-color);\n",
              "  }\n",
              "\n",
              "  .colab-df-quickchart-complete:disabled,\n",
              "  .colab-df-quickchart-complete:disabled:hover {\n",
              "    background-color: var(--disabled-bg-color);\n",
              "    fill: var(--disabled-fill-color);\n",
              "    box-shadow: none;\n",
              "  }\n",
              "\n",
              "  .colab-df-spinner {\n",
              "    border: 2px solid var(--fill-color);\n",
              "    border-color: transparent;\n",
              "    border-bottom-color: var(--fill-color);\n",
              "    animation:\n",
              "      spin 1s steps(1) infinite;\n",
              "  }\n",
              "\n",
              "  @keyframes spin {\n",
              "    0% {\n",
              "      border-color: transparent;\n",
              "      border-bottom-color: var(--fill-color);\n",
              "      border-left-color: var(--fill-color);\n",
              "    }\n",
              "    20% {\n",
              "      border-color: transparent;\n",
              "      border-left-color: var(--fill-color);\n",
              "      border-top-color: var(--fill-color);\n",
              "    }\n",
              "    30% {\n",
              "      border-color: transparent;\n",
              "      border-left-color: var(--fill-color);\n",
              "      border-top-color: var(--fill-color);\n",
              "      border-right-color: var(--fill-color);\n",
              "    }\n",
              "    40% {\n",
              "      border-color: transparent;\n",
              "      border-right-color: var(--fill-color);\n",
              "      border-top-color: var(--fill-color);\n",
              "    }\n",
              "    60% {\n",
              "      border-color: transparent;\n",
              "      border-right-color: var(--fill-color);\n",
              "    }\n",
              "    80% {\n",
              "      border-color: transparent;\n",
              "      border-right-color: var(--fill-color);\n",
              "      border-bottom-color: var(--fill-color);\n",
              "    }\n",
              "    90% {\n",
              "      border-color: transparent;\n",
              "      border-bottom-color: var(--fill-color);\n",
              "    }\n",
              "  }\n",
              "</style>\n",
              "\n",
              "  <script>\n",
              "    async function quickchart(key) {\n",
              "      const quickchartButtonEl =\n",
              "        document.querySelector('#' + key + ' button');\n",
              "      quickchartButtonEl.disabled = true;  // To prevent multiple clicks.\n",
              "      quickchartButtonEl.classList.add('colab-df-spinner');\n",
              "      try {\n",
              "        const charts = await google.colab.kernel.invokeFunction(\n",
              "            'suggestCharts', [key], {});\n",
              "      } catch (error) {\n",
              "        console.error('Error during call to suggestCharts:', error);\n",
              "      }\n",
              "      quickchartButtonEl.classList.remove('colab-df-spinner');\n",
              "      quickchartButtonEl.classList.add('colab-df-quickchart-complete');\n",
              "    }\n",
              "    (() => {\n",
              "      let quickchartButtonEl =\n",
              "        document.querySelector('#df-2431adc6-16f4-4557-b106-36301138ff7e button');\n",
              "      quickchartButtonEl.style.display =\n",
              "        google.colab.kernel.accessAllowed ? 'block' : 'none';\n",
              "    })();\n",
              "  </script>\n",
              "</div>\n",
              "\n",
              "  <div id=\"id_d9da695a-e876-4349-869e-774361f7529e\">\n",
              "    <style>\n",
              "      .colab-df-generate {\n",
              "        background-color: #E8F0FE;\n",
              "        border: none;\n",
              "        border-radius: 50%;\n",
              "        cursor: pointer;\n",
              "        display: none;\n",
              "        fill: #1967D2;\n",
              "        height: 32px;\n",
              "        padding: 0 0 0 0;\n",
              "        width: 32px;\n",
              "      }\n",
              "\n",
              "      .colab-df-generate:hover {\n",
              "        background-color: #E2EBFA;\n",
              "        box-shadow: 0px 1px 2px rgba(60, 64, 67, 0.3), 0px 1px 3px 1px rgba(60, 64, 67, 0.15);\n",
              "        fill: #174EA6;\n",
              "      }\n",
              "\n",
              "      [theme=dark] .colab-df-generate {\n",
              "        background-color: #3B4455;\n",
              "        fill: #D2E3FC;\n",
              "      }\n",
              "\n",
              "      [theme=dark] .colab-df-generate:hover {\n",
              "        background-color: #434B5C;\n",
              "        box-shadow: 0px 1px 3px 1px rgba(0, 0, 0, 0.15);\n",
              "        filter: drop-shadow(0px 1px 2px rgba(0, 0, 0, 0.3));\n",
              "        fill: #FFFFFF;\n",
              "      }\n",
              "    </style>\n",
              "    <button class=\"colab-df-generate\" onclick=\"generateWithVariable('all_topics_df')\"\n",
              "            title=\"Generate code using this dataframe.\"\n",
              "            style=\"display:none;\">\n",
              "\n",
              "  <svg xmlns=\"http://www.w3.org/2000/svg\" height=\"24px\"viewBox=\"0 0 24 24\"\n",
              "       width=\"24px\">\n",
              "    <path d=\"M7,19H8.4L18.45,9,17,7.55,7,17.6ZM5,21V16.75L18.45,3.32a2,2,0,0,1,2.83,0l1.4,1.43a1.91,1.91,0,0,1,.58,1.4,1.91,1.91,0,0,1-.58,1.4L9.25,21ZM18.45,9,17,7.55Zm-12,3A5.31,5.31,0,0,0,4.9,8.1,5.31,5.31,0,0,0,1,6.5,5.31,5.31,0,0,0,4.9,4.9,5.31,5.31,0,0,0,6.5,1,5.31,5.31,0,0,0,8.1,4.9,5.31,5.31,0,0,0,12,6.5,5.46,5.46,0,0,0,6.5,12Z\"/>\n",
              "  </svg>\n",
              "    </button>\n",
              "    <script>\n",
              "      (() => {\n",
              "      const buttonEl =\n",
              "        document.querySelector('#id_d9da695a-e876-4349-869e-774361f7529e button.colab-df-generate');\n",
              "      buttonEl.style.display =\n",
              "        google.colab.kernel.accessAllowed ? 'block' : 'none';\n",
              "\n",
              "      buttonEl.onclick = () => {\n",
              "        google.colab.notebook.generateWithVariable('all_topics_df');\n",
              "      }\n",
              "      })();\n",
              "    </script>\n",
              "  </div>\n",
              "\n",
              "    </div>\n",
              "  </div>\n"
            ],
            "application/vnd.google.colaboratory.intrinsic+json": {
              "type": "dataframe",
              "variable_name": "all_topics_df",
              "summary": "{\n  \"name\": \"all_topics_df\",\n  \"rows\": 1590,\n  \"fields\": [\n    {\n      \"column\": \"ep_id\",\n      \"properties\": {\n        \"dtype\": \"number\",\n        \"std\": 93,\n        \"min\": 1,\n        \"max\": 325,\n        \"num_unique_values\": 318,\n        \"samples\": [\n          74,\n          281,\n          26\n        ],\n        \"semantic_type\": \"\",\n        \"description\": \"\"\n      }\n    },\n    {\n      \"column\": \"topic\",\n      \"properties\": {\n        \"dtype\": \"int32\",\n        \"num_unique_values\": 5,\n        \"samples\": [\n          3,\n          4,\n          0\n        ],\n        \"semantic_type\": \"\",\n        \"description\": \"\"\n      }\n    },\n    {\n      \"column\": \"embedding\",\n      \"properties\": {\n        \"dtype\": \"object\",\n        \"semantic_type\": \"\",\n        \"description\": \"\"\n      }\n    }\n  ]\n}"
            }
          },
          "metadata": {},
          "execution_count": 24
        }
      ],
      "source": [
        "all_topics_df"
      ]
    },
    {
      "cell_type": "code",
      "source": [],
      "metadata": {
        "id": "1qFiFK9CY6c1"
      },
      "id": "1qFiFK9CY6c1",
      "execution_count": null,
      "outputs": []
    }
  ],
  "metadata": {
    "kernelspec": {
      "display_name": "Python 3 (ipykernel)",
      "language": "python",
      "name": "python3"
    },
    "language_info": {
      "codemirror_mode": {
        "name": "ipython",
        "version": 3
      },
      "file_extension": ".py",
      "mimetype": "text/x-python",
      "name": "python",
      "nbconvert_exporter": "python",
      "pygments_lexer": "ipython3",
      "version": "3.11.7"
    },
    "colab": {
      "provenance": []
    }
  },
  "nbformat": 4,
  "nbformat_minor": 5
}